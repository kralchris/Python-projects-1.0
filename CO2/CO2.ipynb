import pandas as pd
import numpy as np
import panel as pn
pn.extension('tabulator')

import hvplot.pandas



if 'data' not in pn.state.cache.keys():

    df = pd.read_csv('co2-data.csv')

    pn.state.cache['data'] = df.copy()

else: 

    df = pn.state.cache['data']




df

df[df['country'] == 'Czechia']

df = df.fillna(0)
df['gdp_per_capita'] = np.where(df['country'] == 'World'], df['gdp']/ df['population'], 0)

